{
 "cells": [
  {
   "cell_type": "code",
   "execution_count": 2,
   "metadata": {},
   "outputs": [
    {
     "data": {
      "text/plain": [
       "'MumbaiFC'"
      ]
     },
     "execution_count": 2,
     "metadata": {},
     "output_type": "execute_result"
    }
   ],
   "source": [
    "class ISL:\n",
    "    def __init__(self,clubname,city):\n",
    "        self.club_name=clubname\n",
    "        self.city_name=city\n",
    "        self.wins=0\n",
    "    def displayclub(self):\n",
    "        return self.club_name\n",
    "team=ISL('MumbaiFC','mumbai')\n",
    "team.displayclub()"
   ]
  },
  {
   "cell_type": "code",
   "execution_count": 18,
   "metadata": {},
   "outputs": [
    {
     "name": "stdout",
     "output_type": "stream",
     "text": [
      "Shivam 35000\n"
     ]
    }
   ],
   "source": [
    "class employee:\n",
    "    def __init__(self,name,salary):\n",
    "        self.emp_name=name\n",
    "        self.emp_salary=salary\n",
    "    def name_emp(self):\n",
    "        return self.emp_name\n",
    "    def salary_emp(self):\n",
    "        return self.emp_salary\n",
    "emp1=employee('Shivam',35000)\n",
    "x=emp1.name_emp()\n",
    "y=emp1.salary_emp()\n",
    "print(x,y)"
   ]
  },
  {
   "cell_type": "code",
   "execution_count": null,
   "metadata": {},
   "outputs": [],
   "source": []
  },
  {
   "cell_type": "code",
   "execution_count": null,
   "metadata": {},
   "outputs": [],
   "source": []
  }
 ],
 "metadata": {
  "kernelspec": {
   "display_name": "Python 3",
   "language": "python",
   "name": "python3"
  },
  "language_info": {
   "codemirror_mode": {
    "name": "ipython",
    "version": 3
   },
   "file_extension": ".py",
   "mimetype": "text/x-python",
   "name": "python",
   "nbconvert_exporter": "python",
   "pygments_lexer": "ipython3",
   "version": "3.6.8"
  }
 },
 "nbformat": 4,
 "nbformat_minor": 2
}
